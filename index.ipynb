{
 "cells": [
  {
   "attachments": {},
   "cell_type": "markdown",
   "id": "a7b1b157-e9ca-4ffa-aa43-ede0b5e29775",
   "metadata": {},
   "source": [
    "# An Ametrano-Bianchetti companion\n",
    "\n",
    "In this notebook, I'll reproduce the results of the paper by F. M. Ametrano and M. Bianchetti, _Everything You Always Wanted to Know About Multiple Interest Rate Curve Bootstrapping but Were Afraid to Ask_ (April 2, 2013). The paper is available at SSRN: http://ssrn.com/abstract=2219548.\n",
    "\n",
    "I won't follow strictly the structure of the paper which, as usual for this kind of work, starts by laying down a theoretical framework.  This notebook is meant to be read side to side with it, so there's no reason for to repeat that part.  Instead, I'll jump ahead to the bootstrapping example in section 5 of the paper; and, as we proceed and add features in the code, I'll refer to the corresponding earlier sections and subsections.\n",
    "\n",
    "Without further ado, let's import a few modules we'll need (including, of course, QuantLib) and set the global evaluation date to the reference date used in the paper."
   ]
  },
  {
   "cell_type": "code",
   "execution_count": null,
   "id": "7d502066",
   "metadata": {},
   "outputs": [],
   "source": [
    "import math\n",
    "import numpy as np\n",
    "import pandas as pd\n",
    "from matplotlib import pyplot as plt\n",
    "from matplotlib.ticker import PercentFormatter\n",
    "from datetime import date"
   ]
  },
  {
   "cell_type": "code",
   "execution_count": null,
   "id": "fb18adab",
   "metadata": {},
   "outputs": [],
   "source": [
    "import QuantLib as ql"
   ]
  },
  {
   "cell_type": "code",
   "execution_count": null,
   "id": "1188610f",
   "metadata": {},
   "outputs": [],
   "source": [
    "today = ql.Date(11, ql.December, 2012)\n",
    "ql.Settings.instance().evaluationDate = today"
   ]
  },
  {
   "cell_type": "markdown",
   "id": "9b07c0fd-3408-4e3f-b3fc-4eca58d88d0a",
   "metadata": {},
   "source": [
    "## Eonia yield curve\n",
    "\n",
    "Following the sequence of section 5, we start by bootstrapping the Eonia curve.  There's a reason for that; this curve is going to be used as a discount curve in the bootstrap of all the other forecast curves.  Our aim is to reproduce the two plots in figure 26.\n",
    "\n",
    "We start by instantiating helpers for all the rates used in the bootstrapping process, as reported in figure (table?) 25 of the paper that in turn collects data from figures 4 and 13.  The corresponding data can be read from a CSV file in this directory; for convenience, the file also contains information on the number of settlement days and the tenor of the instruments."
   ]
  },
  {
   "cell_type": "code",
   "execution_count": null,
   "id": "ebe543cb-a9eb-4de3-b26f-83abae48a88f",
   "metadata": {},
   "outputs": [],
   "source": [
    "eonia_data = pd.read_csv(\n",
    "    'eonia-on-curve.csv',\n",
    "    dtype={'Settlement days': 'Int16'},\n",
    "    parse_dates=['Start date', 'End date'],\n",
    ")\n",
    "eonia_data"
   ]
  },
  {
   "cell_type": "markdown",
   "id": "6cd23cec-784c-404c-91ec-491eb07cbef3",
   "metadata": {},
   "source": [
    "The first three instruments are three 1-day deposit that give us discounting between today and the day after spot. They are modeled by three instances of the `DepositRateHelper` class, with a tenor of 1 day and a number of fixing days going from 0 (for the deposit starting today) to 2 (for the deposit starting on the spot date).\n",
    "\n",
    "Note that these helpers, and the library in general, requires rates to be in decimal format; that is, a 1% rate must be entered as 0.01.  Therefore, we need to divide the quotes in figure 25 by 100."
   ]
  },
  {
   "cell_type": "code",
   "execution_count": null,
   "id": "20a56666-155d-4e7a-a116-f81253aff496",
   "metadata": {},
   "outputs": [],
   "source": [
    "on_depos = eonia_data[:3]\n",
    "on_depos"
   ]
  },
  {
   "cell_type": "code",
   "execution_count": null,
   "id": "6d98c39d",
   "metadata": {},
   "outputs": [],
   "source": [
    "helpers = [\n",
    "    ql.DepositRateHelper(\n",
    "        ql.QuoteHandle(ql.SimpleQuote(row['Quote'] / 100)),\n",
    "        ql.Period(row['Tenor']),\n",
    "        row['Settlement days'],\n",
    "        ql.TARGET(),\n",
    "        ql.Following,\n",
    "        False,\n",
    "        ql.Actual360(),\n",
    "    )\n",
    "    for _, row in on_depos.iterrows()\n",
    "]"
   ]
  },
  {
   "cell_type": "markdown",
   "id": "9c580fa9",
   "metadata": {},
   "source": [
    "Then, we have a series of OIS quotes for the first month. They are modeled by instances of the `OISRateHelper` class with varying tenors. They also require an instance of the `Eonia` class, which doesn't need a forecast curve and can be shared between the helpers.\n",
    "\n",
    "Another note: there are examples floating around the web (and, a while back, in our own examples) in which the index passed to the helpers is instantiated by passing it a `RelinkableYieldTermStructureHandle`, and the handle is later linked to the curve we're bootstrapping.  Don't do that.  It will create a cycle between objects and result in a memory leak.  When we have the curve, we'll use it to create another instance of the index."
   ]
  },
  {
   "cell_type": "code",
   "execution_count": null,
   "id": "0bdac40c",
   "metadata": {},
   "outputs": [],
   "source": [
    "eonia = ql.Eonia()"
   ]
  },
  {
   "cell_type": "code",
   "execution_count": null,
   "id": "d973adb0-dab2-4a02-8414-80f435404ab0",
   "metadata": {},
   "outputs": [],
   "source": [
    "ois_data = eonia_data[3:7]\n",
    "ois_data"
   ]
  },
  {
   "cell_type": "code",
   "execution_count": null,
   "id": "67140d02",
   "metadata": {},
   "outputs": [],
   "source": [
    "helpers += [\n",
    "    ql.OISRateHelper(\n",
    "        row['Settlement days'],\n",
    "        ql.Period(row['Tenor']),\n",
    "        ql.QuoteHandle(ql.SimpleQuote(row['Quote'] / 100)),\n",
    "        eonia,\n",
    "    )\n",
    "    for _, row in ois_data.iterrows()\n",
    "]"
   ]
  },
  {
   "cell_type": "markdown",
   "id": "7f413cbf",
   "metadata": {},
   "source": [
    "Next, five OIS forwards on ECB dates. For these, we need to instantiate the `DatedOISRateHelper` class and specify start and end dates explicitly."
   ]
  },
  {
   "cell_type": "code",
   "execution_count": null,
   "id": "b205a47f-e308-4f61-b388-4a13002be172",
   "metadata": {},
   "outputs": [],
   "source": [
    "ois_fwd = eonia_data[7:12]\n",
    "ois_fwd"
   ]
  },
  {
   "cell_type": "code",
   "execution_count": null,
   "id": "f4ba7f6f",
   "metadata": {},
   "outputs": [],
   "source": [
    "helpers += [\n",
    "    ql.DatedOISRateHelper(\n",
    "        ql.Date.from_date(row['Start date']),\n",
    "        ql.Date.from_date(row['End date']),\n",
    "        ql.QuoteHandle(ql.SimpleQuote(row['Quote'] / 100)),\n",
    "        eonia,\n",
    "    )\n",
    "    for _, row in ois_fwd.iterrows()\n",
    "]"
   ]
  },
  {
   "cell_type": "markdown",
   "id": "c2722004",
   "metadata": {},
   "source": [
    "Finally, we add OIS quotes up to 30 years.  These have a rolling maturity, so we go back to the `OisRateHelper` class."
   ]
  },
  {
   "cell_type": "code",
   "execution_count": null,
   "id": "1f43e17b-2050-4786-9359-a49ffc444e0b",
   "metadata": {},
   "outputs": [],
   "source": [
    "ois_data = eonia_data[12:]\n",
    "ois_data"
   ]
  },
  {
   "cell_type": "code",
   "execution_count": null,
   "id": "0076b204",
   "metadata": {},
   "outputs": [],
   "source": [
    "helpers += [\n",
    "    ql.OISRateHelper(\n",
    "        row['Settlement days'],\n",
    "        ql.Period(row['Tenor']),\n",
    "        ql.QuoteHandle(ql.SimpleQuote(row['Quote'] / 100)),\n",
    "        eonia,\n",
    "    )\n",
    "    for _, row in ois_data.iterrows()\n",
    "]"
   ]
  },
  {
   "cell_type": "markdown",
   "id": "9b829b8e",
   "metadata": {},
   "source": [
    "The curve is an instance of `PiecewiseLogCubicDiscount` (corresponding to the `PiecewiseYieldCurve<Discount,LogCubic>` class in C++); the argument for this choice is made in section 4.5 of the paper.  We let the reference date of the curve move with the global evaluation date, by specifying it as 0 days after the latter on the TARGET calendar.\n",
    "\n",
    "The day counter chosen is not of much consequence, as it is only used internally to convert dates into times.  As mentioned in section 4.2, a additive day-count convention is to be preferred; that is, one for which, given three dates $d_1$, $d_2$ and $d_3$,\n",
    "\n",
    "$$ \\tau(d_1, d_3) = \\tau(d_1, d_2) + \\tau(d_2, d_3) $$\n",
    "\n",
    "In practice, this usually means the Act/360 or Act/365 conventions.\n",
    "\n",
    "Also, we enable extrapolation beyond the maturity of the last helper; that is mostly for convenience as we retrieve rates to plot the curve near its far end."
   ]
  },
  {
   "cell_type": "code",
   "execution_count": null,
   "id": "3aeb3eac",
   "metadata": {},
   "outputs": [],
   "source": [
    "eonia_curve_c = ql.PiecewiseLogCubicDiscount(\n",
    "    0, ql.TARGET(), helpers, ql.Actual365Fixed()\n",
    ")\n",
    "eonia_curve_c.enableExtrapolation()"
   ]
  },
  {
   "cell_type": "markdown",
   "id": "803188b1",
   "metadata": {},
   "source": [
    "To compare the curve with the one shown in figure 26 of the paper, we can retrieve daily overnight rates over its first two years and plot them:"
   ]
  },
  {
   "cell_type": "code",
   "execution_count": null,
   "id": "7f6be520",
   "metadata": {},
   "outputs": [],
   "source": [
    "today = eonia_curve_c.referenceDate()\n",
    "end = today + ql.Period(2, ql.Years)\n",
    "dates = [\n",
    "    ql.Date(serial)\n",
    "    for serial in range(today.serialNumber(), end.serialNumber() + 1)\n",
    "]\n",
    "rates_c = [\n",
    "    eonia_curve_c.forwardRate(\n",
    "        d, ql.TARGET().advance(d, 1, ql.Days), ql.Actual360(), ql.Simple\n",
    "    ).rate()\n",
    "    for d in dates\n",
    "]\n",
    "\n",
    "ax = plt.figure(figsize=(9, 6)).add_subplot(1, 1, 1)\n",
    "ax.axhline(0.0, linewidth=1, color=\"black\")\n",
    "ax.set_xlim(min(dates).to_date(), max(dates).to_date())\n",
    "ax.yaxis.set_major_formatter(PercentFormatter(1.0))\n",
    "ax.plot([d.to_date() for d in dates], rates_c, \"-\")\n",
    "ax.grid(alpha=0.4);"
   ]
  },
  {
   "cell_type": "markdown",
   "id": "500d8ce3",
   "metadata": {},
   "source": [
    "However, we still have work to do. Out plot above shows a rather large bump at the end of 2012 which is not present in the paper. To remove it, we need to model properly the turn-of-year effect."
   ]
  },
  {
   "attachments": {},
   "cell_type": "markdown",
   "id": "f1240867-5f8f-4f6b-b1bc-788d55628d36",
   "metadata": {},
   "source": [
    "### Turn-of-year jumps\n",
    "\n",
    "As explained in section 4.8 of the paper, the turn-of-year effect is a jump in interest rates due to an increased demand for liquidity at the end of the year.  The jump is embedded in any quoted rates that straddle the end of the year, and must be treated separately; the `YieldTermStructure` class allows this by taking any number of jumps, modeled as additional discount factors, and applying them at the specified dates.\n",
    "\n",
    "Our current problem, however, is to estimate the size of the jump. To simplify analysis, we turn to flat forward rates instead of log-cubic discounts; thus, we instantiate a `PiecewiseFlatForward` curve (corresponding to `PiecewiseYieldCurve<ForwardRate,BackwardFlat>` in C++)."
   ]
  },
  {
   "cell_type": "code",
   "execution_count": null,
   "id": "c8abc177",
   "metadata": {},
   "outputs": [],
   "source": [
    "eonia_curve_ff = ql.PiecewiseFlatForward(\n",
    "    0, ql.TARGET(), helpers, ql.Actual365Fixed()\n",
    ")\n",
    "eonia_curve_ff.enableExtrapolation()"
   ]
  },
  {
   "cell_type": "markdown",
   "id": "ed52f1a8",
   "metadata": {},
   "source": [
    "To show the jump more clearly, I'll restrict the plot to the first 6 months:"
   ]
  },
  {
   "cell_type": "code",
   "execution_count": null,
   "id": "6091b0a7",
   "metadata": {},
   "outputs": [],
   "source": [
    "end = today + ql.Period(6, ql.Months)\n",
    "dates = [\n",
    "    ql.Date(serial)\n",
    "    for serial in range(today.serialNumber(), end.serialNumber() + 1)\n",
    "]\n",
    "rates_ff = [\n",
    "    eonia_curve_ff.forwardRate(\n",
    "        d, ql.TARGET().advance(d, 1, ql.Days), ql.Actual360(), ql.Simple\n",
    "    ).rate()\n",
    "    for d in dates\n",
    "]\n",
    "\n",
    "ax = plt.figure(figsize=(9, 6)).add_subplot(1, 1, 1)\n",
    "ax.axhline(0.0, linewidth=1, color=\"black\")\n",
    "ax.set_xlim(min(dates).to_date(), max(dates).to_date())\n",
    "ax.yaxis.set_major_formatter(PercentFormatter(1.0))\n",
    "ax.plot([d.to_date() for d in dates], rates_ff, \"-\")\n",
    "ax.grid(alpha=0.4);"
   ]
  },
  {
   "cell_type": "markdown",
   "id": "013fb438",
   "metadata": {},
   "source": [
    "As we see, the forward ending at the beginning of January 2013 is out of line. In order to estimate the jump, we need to estimate a \"clean\" forward that doesn't include it.\n",
    "\n",
    "A possible estimate (although not the only one) can be obtained by interpolating the forwards around the one we want to replace. To do so, we extract the values of the forwards rates and their corresponding dates."
   ]
  },
  {
   "cell_type": "code",
   "execution_count": null,
   "id": "f9ab4b44",
   "metadata": {},
   "outputs": [],
   "source": [
    "nodes = list(eonia_curve_ff.nodes())"
   ]
  },
  {
   "cell_type": "markdown",
   "id": "4ee50b78",
   "metadata": {},
   "source": [
    "If we look at the first few nodes, we can clearly see that the seventh (the one for January 2013) is out of line."
   ]
  },
  {
   "cell_type": "code",
   "execution_count": null,
   "id": "f07ded77",
   "metadata": {},
   "outputs": [],
   "source": [
    "nodes[:9]"
   ]
  },
  {
   "cell_type": "markdown",
   "id": "776ab37c",
   "metadata": {},
   "source": [
    "To create a curve that doesn't include the jump, we replace the relevant forward rate with a simple average of the ones that precede and follow..."
   ]
  },
  {
   "cell_type": "code",
   "execution_count": null,
   "id": "36164414",
   "metadata": {},
   "outputs": [],
   "source": [
    "nodes[6] = (nodes[6][0], (nodes[5][1] + nodes[7][1]) / 2.0)\n",
    "nodes[:9]"
   ]
  },
  {
   "cell_type": "markdown",
   "id": "7e73d0c9",
   "metadata": {},
   "source": [
    "...and instantiate a `ForwardCurve` with the modified nodes."
   ]
  },
  {
   "cell_type": "code",
   "execution_count": null,
   "id": "514f9611",
   "metadata": {},
   "outputs": [],
   "source": [
    "temp_dates, temp_rates = zip(*nodes)\n",
    "temp_curve = ql.ForwardCurve(\n",
    "    temp_dates, temp_rates, eonia_curve_ff.dayCounter()\n",
    ")"
   ]
  },
  {
   "cell_type": "markdown",
   "id": "26cacd12",
   "metadata": {},
   "source": [
    "For illustration, we can extract daily overnight nodes from the doctored curve and plot them alongside the old ones:"
   ]
  },
  {
   "cell_type": "code",
   "execution_count": null,
   "id": "b4079e86",
   "metadata": {},
   "outputs": [],
   "source": [
    "temp_rates = [\n",
    "    temp_curve.forwardRate(\n",
    "        d, ql.TARGET().advance(d, 1, ql.Days), ql.Actual360(), ql.Simple\n",
    "    ).rate()\n",
    "    for d in dates\n",
    "]\n",
    "\n",
    "ax = plt.figure(figsize=(9, 6)).add_subplot(1, 1, 1)\n",
    "ax.axhline(0.0, linewidth=1, color=\"black\")\n",
    "ax.set_xlim(min(dates).to_date(), max(dates).to_date())\n",
    "ax.yaxis.set_major_formatter(PercentFormatter(1.0))\n",
    "ax.plot(\n",
    "    [d.to_date() for d in dates], temp_rates, \"-\", label=\"doctored curve\"\n",
    ")\n",
    "ax.plot(\n",
    "    [d.to_date() for d in dates], rates_ff, \"--\", label=\"original curve\"\n",
    ")\n",
    "ax.grid(alpha=0.4)\n",
    "ax.legend();"
   ]
  },
  {
   "cell_type": "markdown",
   "id": "805faeff",
   "metadata": {},
   "source": [
    "Now we can estimate the size of the jump. As the paper hints, it's more an art than a science. I've been able to reproduce fairly closely the results of the paper by extracting from both curves the forward rate over the two weeks around the end of the year:"
   ]
  },
  {
   "cell_type": "code",
   "execution_count": null,
   "id": "72129adf",
   "metadata": {},
   "outputs": [],
   "source": [
    "d1 = ql.Date(31, ql.December, 2012) - ql.Period(1, ql.Weeks)\n",
    "d2 = ql.Date(31, ql.December, 2012) + ql.Period(1, ql.Weeks)"
   ]
  },
  {
   "cell_type": "code",
   "execution_count": null,
   "id": "cab5e9fe",
   "metadata": {},
   "outputs": [],
   "source": [
    "F = eonia_curve_ff.forwardRate(d1, d2, ql.Actual360(), ql.Simple)\n",
    "F_1 = temp_curve.forwardRate(d1, d2, ql.Actual360(), ql.Simple)\n",
    "print(F)\n",
    "print(F_1)"
   ]
  },
  {
   "cell_type": "markdown",
   "id": "2275351c",
   "metadata": {},
   "source": [
    "We want to attribute the whole jump to the last day of the year, so we rescale it according to\n",
    "\n",
    "$$\n",
    "(F-F_1) \\cdot t_{12} = J \\cdot t_J\n",
    "$$\n",
    "\n",
    "where $t_{12}$ is the time between the two dates and $t_J$ is the time between the start and end date of the end-of-year overnight deposit. This gives us a jump close to the value of 10.2 basis points reported in the paper."
   ]
  },
  {
   "cell_type": "code",
   "execution_count": null,
   "id": "a9f348fd",
   "metadata": {},
   "outputs": [],
   "source": [
    "t12 = eonia_curve_ff.dayCounter().yearFraction(d1, d2)\n",
    "t_j = eonia_curve_ff.dayCounter().yearFraction(\n",
    "    ql.Date(31, ql.December, 2012), ql.Date(2, ql.January, 2013)\n",
    ")\n",
    "J = (F.rate() - F_1.rate()) * t12 / t_j\n",
    "print(f\"{J:.4%}\")"
   ]
  },
  {
   "cell_type": "markdown",
   "id": "46bdf9a2",
   "metadata": {},
   "source": [
    "As I mentioned previously, the jump can be added to the curve as a corresponding discount factor $1/(1+J \\cdot t_J)$ on the last day of the year.  The information can be passed to the curve constructor, giving us a new instance:"
   ]
  },
  {
   "cell_type": "code",
   "execution_count": null,
   "id": "846b987c",
   "metadata": {},
   "outputs": [],
   "source": [
    "B = 1.0 / (1.0 + J * t_j)\n",
    "jumps = [ql.QuoteHandle(ql.SimpleQuote(B))]\n",
    "jump_dates = [ql.Date(31, ql.December, 2012)]\n",
    "eonia_curve_j = ql.PiecewiseFlatForward(\n",
    "    0, ql.TARGET(), helpers, ql.Actual365Fixed(), jumps, jump_dates\n",
    ")"
   ]
  },
  {
   "cell_type": "markdown",
   "id": "897a8466",
   "metadata": {},
   "source": [
    "Retrieving daily overnight rates from the new curve and plotting them, we can see the jump quite clearly:"
   ]
  },
  {
   "cell_type": "code",
   "execution_count": null,
   "id": "89a741ca",
   "metadata": {},
   "outputs": [],
   "source": [
    "rates_j = [\n",
    "    eonia_curve_j.forwardRate(\n",
    "        d, ql.TARGET().advance(d, 1, ql.Days), ql.Actual360(), ql.Simple\n",
    "    ).rate()\n",
    "    for d in dates\n",
    "]\n",
    "\n",
    "ax = plt.figure(figsize=(9, 6)).add_subplot(1, 1, 1)\n",
    "ax.axhline(0.0, linewidth=1, color=\"black\")\n",
    "ax.set_xlim(min(dates).to_date(), max(dates).to_date())\n",
    "ax.yaxis.set_major_formatter(PercentFormatter(1.0))\n",
    "ax.plot([d.to_date() for d in dates], rates_ff, \"-\", label=\"without jump\")\n",
    "ax.plot([d.to_date() for d in dates], rates_j, \"o\", label=\"with jump\")\n",
    "ax.grid(alpha=0.4)\n",
    "ax.legend();"
   ]
  },
  {
   "cell_type": "markdown",
   "id": "b29e0773",
   "metadata": {},
   "source": [
    "We can now go back to log-cubic discounts and add the jump."
   ]
  },
  {
   "cell_type": "code",
   "execution_count": null,
   "id": "d2f3c55a",
   "metadata": {},
   "outputs": [],
   "source": [
    "eonia_curve = ql.PiecewiseLogCubicDiscount(\n",
    "    0, ql.TARGET(), helpers, ql.Actual365Fixed(), jumps, jump_dates\n",
    ")\n",
    "eonia_curve.enableExtrapolation()"
   ]
  },
  {
   "cell_type": "code",
   "execution_count": null,
   "id": "58f903b2",
   "metadata": {},
   "outputs": [],
   "source": [
    "rates_c = [\n",
    "    eonia_curve_c.forwardRate(\n",
    "        d, ql.TARGET().advance(d, 1, ql.Days), ql.Actual360(), ql.Simple\n",
    "    ).rate()\n",
    "    for d in dates\n",
    "]\n",
    "rates = [\n",
    "    eonia_curve.forwardRate(\n",
    "        d, ql.TARGET().advance(d, 1, ql.Days), ql.Actual360(), ql.Simple\n",
    "    ).rate()\n",
    "    for d in dates\n",
    "]\n",
    "\n",
    "ax = plt.figure(figsize=(9, 6)).add_subplot(1, 1, 1)\n",
    "ax.axhline(0.0, linewidth=1, color=\"black\")\n",
    "ax.set_xlim(min(dates).to_date(), max(dates).to_date())\n",
    "ax.yaxis.set_major_formatter(PercentFormatter(1.0))\n",
    "ax.plot([d.to_date() for d in dates], rates_c, \"-\", label=\"without jump\")\n",
    "ax.plot([d.to_date() for d in dates], rates, \"o\", label=\"with jump\")\n",
    "ax.grid(alpha=0.4)\n",
    "ax.legend();"
   ]
  },
  {
   "cell_type": "markdown",
   "id": "ab483000",
   "metadata": {},
   "source": [
    "As you can see, the large bump is gone now.  The two plots in figure 26 can be reproduced as follows (omitting the jump at the end of 2013 for brevity, and the flat forwards for clarity):"
   ]
  },
  {
   "cell_type": "code",
   "execution_count": null,
   "id": "95855fab",
   "metadata": {},
   "outputs": [],
   "source": [
    "eonia_curve_2 = ql.PiecewiseLogLinearDiscount(\n",
    "    0, ql.TARGET(), helpers, ql.Actual365Fixed(), jumps, jump_dates\n",
    ")\n",
    "eonia_curve_2.enableExtrapolation()"
   ]
  },
  {
   "cell_type": "code",
   "execution_count": null,
   "id": "d26eb594",
   "metadata": {},
   "outputs": [],
   "source": [
    "fig = plt.figure(figsize=(9, 10))\n",
    "\n",
    "dates = [today + ql.Period(i, ql.Days) for i in range(0, 365 * 2 + 1)]\n",
    "rates = [\n",
    "    eonia_curve.forwardRate(\n",
    "        d, ql.TARGET().advance(d, 1, ql.Days), ql.Actual360(), ql.Simple\n",
    "    ).rate()\n",
    "    for d in dates\n",
    "]\n",
    "rates_2 = [\n",
    "    eonia_curve_2.forwardRate(\n",
    "        d, ql.TARGET().advance(d, 1, ql.Days), ql.Actual360(), ql.Simple\n",
    "    ).rate()\n",
    "    for d in dates\n",
    "]\n",
    "\n",
    "ax1 = fig.add_subplot(2, 1, 1)\n",
    "ax1.set_title(\"EUR yield curve ON (0-2Y)\")\n",
    "ax1.axhline(0.0, linewidth=1, color=\"black\")\n",
    "ax1.set_xlim(min(dates).to_date(), max(dates).to_date())\n",
    "ax1.yaxis.set_major_formatter(PercentFormatter(1.0))\n",
    "ax1.set_ylim(-0.001, 0.002)\n",
    "ax1.plot(\n",
    "    [d.to_date() for d in dates], rates, \".\", label=\"Log-cubic discounts\"\n",
    ")\n",
    "ax1.plot(\n",
    "    [d.to_date() for d in dates],\n",
    "    rates_2,\n",
    "    \"x\",\n",
    "    label=\"Log-linear discounts\",\n",
    ")\n",
    "ax1.grid(alpha=0.4)\n",
    "ax1.legend(loc=\"lower right\")\n",
    "\n",
    "dates = [today + ql.Period(i, ql.Months) for i in range(0, 12 * 60 + 1)]\n",
    "rates = [\n",
    "    eonia_curve.forwardRate(\n",
    "        d, ql.TARGET().advance(d, 1, ql.Days), ql.Actual360(), ql.Simple\n",
    "    ).rate()\n",
    "    for d in dates\n",
    "]\n",
    "rates_2 = [\n",
    "    eonia_curve_2.forwardRate(\n",
    "        d, ql.TARGET().advance(d, 1, ql.Days), ql.Actual360(), ql.Simple\n",
    "    ).rate()\n",
    "    for d in dates\n",
    "]\n",
    "\n",
    "ax2 = fig.add_subplot(2, 1, 2)\n",
    "ax2.set_title(\"EUR yield curve ON (0-60Y)\")\n",
    "ax2.axhline(0.0, linewidth=1, color=\"black\")\n",
    "ax2.set_xlim(min(dates).to_date(), max(dates).to_date())\n",
    "ax2.yaxis.set_major_formatter(PercentFormatter(1.0))\n",
    "ax2.set_ylim(-0.001, 0.035)\n",
    "ax2.plot(\n",
    "    [d.to_date() for d in dates], rates, \".\", label=\"Log-cubic discounts\"\n",
    ")\n",
    "ax2.plot(\n",
    "    [d.to_date() for d in dates],\n",
    "    rates_2,\n",
    "    \"x\",\n",
    "    label=\"Log-linear discounts\",\n",
    ")\n",
    "ax2.grid(alpha=0.4)\n",
    "ax2.legend(loc=\"upper right\");"
   ]
  },
  {
   "cell_type": "markdown",
   "id": "d865eaca-258e-46e0-8d2c-824623774e90",
   "metadata": {},
   "source": [
    "A final word of warning: as you saw, the estimate of the jumps is not an exact science, so it's best to check it manually and not to leave it to an automated procedure.\n",
    "\n",
    "Moreover, jumps might be present at the end of each month, as reported for instance in [Paolo Mazzocchi's presentation at the QuantLib User Meeting 2014](https://speakerdeck.com/nando1970/eonia-jumps-and-proper-euribor-forwarding). This, too, suggests particular care in building the Eonia curve."
   ]
  },
  {
   "cell_type": "markdown",
   "id": "0530d602-9bcb-40db-8d63-054c70d7b169",
   "metadata": {},
   "source": [
    "## 6-months Euribor curve\n",
    "\n",
    "As we'll see, most of the Euribor curves for different tenors have their own quirks.\n",
    "\n",
    "I'll start from the 6-months Euribor curve, which is somewhat simpler due to having a number of quoted rates directly available for bootstrapping. The figure we want to reproduce is figure 32; the instruments are in figure 31, collecting market data from figures 6 and 9, and are read from another CSV file."
   ]
  },
  {
   "cell_type": "code",
   "execution_count": null,
   "id": "c0ac8f9f-4f44-4171-bdaa-33c383c72b9c",
   "metadata": {},
   "outputs": [],
   "source": [
    "euribor6m_data = pd.read_csv(\n",
    "    'euribor-6m-curve.csv',\n",
    "    dtype={'Settlement days': 'Int16'},\n",
    "    parse_dates=['Start date', 'End date'],\n",
    ")\n",
    "euribor6m_data"
   ]
  },
  {
   "cell_type": "markdown",
   "id": "f729d397-4c28-433d-8703-571a9e011a36",
   "metadata": {},
   "source": [
    "The first instrument used in the paper if the TOM 6-months FRA, which can be instantiated as a 6-months deposit with 3 fixing days."
   ]
  },
  {
   "cell_type": "code",
   "execution_count": null,
   "id": "9b9966a8-e9b8-4516-847c-b542a1b3410b",
   "metadata": {},
   "outputs": [],
   "source": [
    "depo_data = euribor6m_data[9:10]\n",
    "depo_data"
   ]
  },
  {
   "cell_type": "code",
   "execution_count": null,
   "id": "3d3efe9d",
   "metadata": {},
   "outputs": [],
   "source": [
    "helpers = [\n",
    "    ql.DepositRateHelper(\n",
    "        ql.QuoteHandle(ql.SimpleQuote(row['Quote'] / 100)),\n",
    "        ql.Period(6, ql.Months),\n",
    "        row['Settlement days'],\n",
    "        ql.TARGET(),\n",
    "        ql.Following,\n",
    "        False,\n",
    "        ql.Actual360(),\n",
    "    )\n",
    "    for _, row in depo_data.iterrows()\n",
    "]"
   ]
  },
  {
   "cell_type": "markdown",
   "id": "7c8e4510",
   "metadata": {},
   "source": [
    "Then comes a strip of 6-months FRA up to 2 years maturity.  The `FraRateHelper` class needs an instance of the corresponding index that, again, we instantiate without passing it a handle.  In this case, the \"Tenor\" column doubles as the start of the FRA, e.g., 5 months for a 5x11 FRA."
   ]
  },
  {
   "cell_type": "code",
   "execution_count": null,
   "id": "bd4991e7-0ed2-4786-8245-e90eab7b1119",
   "metadata": {},
   "outputs": [],
   "source": [
    "fra_data = euribor6m_data[10:28]\n",
    "fra_data"
   ]
  },
  {
   "cell_type": "code",
   "execution_count": null,
   "id": "da9c5b51",
   "metadata": {},
   "outputs": [],
   "source": [
    "euribor6m = ql.Euribor6M()"
   ]
  },
  {
   "cell_type": "code",
   "execution_count": null,
   "id": "4e0c2f46",
   "metadata": {},
   "outputs": [],
   "source": [
    "helpers += [\n",
    "    ql.FraRateHelper(\n",
    "        ql.QuoteHandle(ql.SimpleQuote(row['Quote'] / 100)),\n",
    "        ql.Period(row['Tenor']).length(),\n",
    "        euribor6m\n",
    "    )\n",
    "    for _, row in fra_data.iterrows()\n",
    "]"
   ]
  },
  {
   "cell_type": "markdown",
   "id": "b5862f7a",
   "metadata": {},
   "source": [
    "Finally, we have a series of swap rates with maturities from 3 to 60 years, listed in figure 9.  As the paper explains (see section 4.7), the curve being bootstrapped will be used only for forecasting the 6-months Euribor fixings paid by the floating leg; all the payments will be discounted by means of the OIS curve.  In the implementation, this is done by wrapping the Eonia curve in a `Handle` and passing it as an extra argument to the `SwapRateHelper` constructor."
   ]
  },
  {
   "cell_type": "code",
   "execution_count": null,
   "id": "83f32451-6609-4ffe-981a-547439992a8e",
   "metadata": {},
   "outputs": [],
   "source": [
    "irs_data = euribor6m_data[29:]\n",
    "irs_data"
   ]
  },
  {
   "cell_type": "code",
   "execution_count": null,
   "id": "f306411d",
   "metadata": {},
   "outputs": [],
   "source": [
    "discount_curve = ql.YieldTermStructureHandle(eonia_curve)"
   ]
  },
  {
   "cell_type": "code",
   "execution_count": null,
   "id": "ee2d5e81",
   "metadata": {},
   "outputs": [],
   "source": [
    "helpers += [\n",
    "    ql.SwapRateHelper(\n",
    "        ql.QuoteHandle(ql.SimpleQuote(row['Quote'] / 100)),\n",
    "        ql.Period(row['Tenor']),\n",
    "        ql.TARGET(),\n",
    "        ql.Annual,\n",
    "        ql.Unadjusted,\n",
    "        ql.Thirty360(ql.Thirty360.BondBasis),\n",
    "        euribor6m,\n",
    "        ql.QuoteHandle(),\n",
    "        ql.Period(0, ql.Days),\n",
    "        discount_curve,\n",
    "        row['Settlement days']\n",
    "    )\n",
    "    for _, row in irs_data.iterrows()\n",
    "]"
   ]
  },
  {
   "cell_type": "markdown",
   "id": "6bfabdb9",
   "metadata": {},
   "source": [
    "This will give us a decent Euribor curve, that we can display by sampling 6-months forward rates at a number of dates."
   ]
  },
  {
   "cell_type": "code",
   "execution_count": null,
   "id": "445cddd8",
   "metadata": {},
   "outputs": [],
   "source": [
    "euribor6m_curve = ql.PiecewiseLogCubicDiscount(\n",
    "    2, ql.TARGET(), helpers, ql.Actual365Fixed()\n",
    ")\n",
    "euribor6m_curve.enableExtrapolation()"
   ]
  },
  {
   "cell_type": "code",
   "execution_count": null,
   "id": "94f3d5fa",
   "metadata": {},
   "outputs": [],
   "source": [
    "spot = euribor6m_curve.referenceDate()\n",
    "dates = [spot + ql.Period(i, ql.Months) for i in range(0, 60 * 12 + 1)]\n",
    "rates = [\n",
    "    euribor6m_curve.forwardRate(\n",
    "        d, euribor6m.maturityDate(d), ql.Actual360(), ql.Simple\n",
    "    ).rate()\n",
    "    for d in dates\n",
    "]\n",
    "\n",
    "ax = plt.figure(figsize=(9, 6)).add_subplot(1, 1, 1)\n",
    "ax.axhline(0.0, linewidth=1, color=\"black\")\n",
    "ax.set_xlim(min(dates).to_date(), max(dates).to_date())\n",
    "ax.yaxis.set_major_formatter(PercentFormatter(1.0))\n",
    "ax.plot([d.to_date() for d in dates], rates, \"-\")\n",
    "ax.grid(alpha=0.4);"
   ]
  },
  {
   "cell_type": "markdown",
   "id": "a5c83af5",
   "metadata": {},
   "source": [
    "At the scale of the plot, this seems to work and to match figure 32 in the paper; but looking closely at the first part of the curve, you can see a glitch (some kind of dip) in the last part of 2014, when the FRA strip ends."
   ]
  },
  {
   "cell_type": "code",
   "execution_count": null,
   "id": "03d46138",
   "metadata": {},
   "outputs": [],
   "source": [
    "dates = [spot + ql.Period(i, ql.Weeks) for i in range(0, 52 * 4 + 1)]\n",
    "rates = [\n",
    "    euribor6m_curve.forwardRate(\n",
    "        d, euribor6m.maturityDate(d), ql.Actual360(), ql.Simple\n",
    "    ).rate()\n",
    "    for d in dates\n",
    "]\n",
    "\n",
    "ax = plt.figure(figsize=(9, 6)).add_subplot(1, 1, 1)\n",
    "ax.axhline(0.0, linewidth=1, color=\"black\")\n",
    "ax.set_xlim(min(dates).to_date(), max(dates).to_date())\n",
    "ax.yaxis.set_major_formatter(PercentFormatter(1.0))\n",
    "ax.plot([d.to_date() for d in dates], rates, \"-\")\n",
    "ax.grid(alpha=0.4)\n",
    "ax.annotate(\n",
    "    \"\",\n",
    "    xy=(date(2014, 10, 1), 0.0055),\n",
    "    xytext=(date(2014, 8, 1), 0.008),\n",
    "    arrowprops=dict(arrowstyle=\"->\"),\n",
    ");"
   ]
  },
  {
   "cell_type": "markdown",
   "id": "c1dd10fd",
   "metadata": {},
   "source": [
    "### Synthetic deposits"
   ]
  },
  {
   "cell_type": "markdown",
   "id": "e5a6985a",
   "metadata": {},
   "source": [
    "In short, the reason is that the short end of the curve (which is required for pricing FRAs; for instance, the 1x7 FRA required the discount factor at 1 month from now) is extrapolated backwards from the first quoted pillar at 6 months and is not quite correct. This leads to oscillations as soon as the curve is out of the tight strip of FRA quotes.\n",
    "\n",
    "One way to correct this is to add synthetic deposits with short tenors, as explained in section 4.4.2 of the paper. To begin with, let's save the original curve to another variable for later comparison."
   ]
  },
  {
   "cell_type": "code",
   "execution_count": null,
   "id": "b4f02132",
   "metadata": {},
   "outputs": [],
   "source": [
    "euribor6m_curve_0 = euribor6m_curve"
   ]
  },
  {
   "attachments": {},
   "cell_type": "markdown",
   "id": "0df8ff7d",
   "metadata": {},
   "source": [
    "As detailed in the paper, one can model the basis between the Euribor market quotes and the corresponding OIS-based rates as a polynomial; that is, following equation 88,\n",
    "\n",
    "$$\n",
    "R_{x}(T_1,T_2) \\tau(T_1,T_2) = R_{on}(T_1,T_2) \\tau(T_1,T_2) + \\Delta(T_1,T_2)\n",
    "$$\n",
    "\n",
    "In the paper, the expression for $\\Delta(T_1,T_2)$ is given by equation 90, that is,\n",
    "\n",
    "$$\n",
    "\\Delta(T_1, T_2) = \\alpha \\cdot (T_2-T_1) + \\frac{1}{2} \\beta \\cdot (T_2-T_1)^2\n",
    "                 + \\frac{1}{3} \\gamma \\cdot (T_2-T_1)^3 + \\ldots\n",
    "$$\n",
    "\n",
    "However, the above leads to problems when trying to solve for more than one coefficient.  Following [a later formulation](https://speakerdeck.com/nando1970/eonia-jumps-and-proper-euribor-forwarding), I'll express the instantaneous basis instead as \n",
    "\n",
    "$$\n",
    "\\delta(t) = \\alpha + \\beta \\cdot t + \\gamma \\cdot t^2 + \\ldots\n",
    "$$\n",
    "\n",
    "which leads to\n",
    "\n",
    "$$\n",
    "\\Delta(T_1, T_2) = \\int_{T_1}^{T_2} \\delta(t)\n",
    "                 = \\alpha \\cdot (T_2-T_1) + \\frac{1}{2} \\beta \\cdot (T_2^2-T_1^2)\n",
    "                 + \\frac{1}{3} \\gamma \\cdot (T_2^3-T_1^3) + \\ldots\n",
    "$$\n",
    "\n",
    "Once the basis is known, we can calculate synthetic deposit rates $R(0,T)$ for any maturity $T$.\n",
    "\n",
    "Depending on how many polynomial coefficients we want to determine, we'll need a corresponding number of market quotes; by replacing their values and those of the OIS rates in equation 88 we can solve for $\\alpha$, $\\beta$ and any other coefficient.\n",
    "\n",
    "For a constant polynomial, we'll need one quote to determine $\\alpha$; we can use the TOM 6-months deposit that the Euribor curve reprices exactly."
   ]
  },
  {
   "cell_type": "code",
   "execution_count": null,
   "id": "5c36261a",
   "metadata": {},
   "outputs": [],
   "source": [
    "d = ql.TARGET().advance(spot, 1, ql.Days)\n",
    "F_x = euribor6m_curve_0.forwardRate(\n",
    "    d, ql.TARGET().advance(d, 6, ql.Months), ql.Actual360(), ql.Simple\n",
    ").rate()\n",
    "F_on = eonia_curve.forwardRate(\n",
    "    d, ql.TARGET().advance(d, 6, ql.Months), ql.Actual360(), ql.Simple\n",
    ").rate()\n",
    "day_counter = euribor6m.dayCounter()\n",
    "T_x = day_counter.yearFraction(d, ql.TARGET().advance(d, 6, ql.Months))\n",
    "alpha = F_x - F_on\n",
    "print(alpha)"
   ]
  },
  {
   "cell_type": "markdown",
   "id": "c8284c35",
   "metadata": {},
   "source": [
    "From the basis, we can instantiate synthetic deposits for a number of maturities below 6 months; these are the deposits listed at the beginning of the data table."
   ]
  },
  {
   "cell_type": "code",
   "execution_count": null,
   "id": "f353e714-6f3d-43a7-84c7-3202f543841d",
   "metadata": {},
   "outputs": [],
   "source": [
    "depo_data = euribor6m_data[:9]\n",
    "depo_data"
   ]
  },
  {
   "cell_type": "code",
   "execution_count": null,
   "id": "46dae5a6",
   "metadata": {},
   "outputs": [],
   "source": [
    "synth_helpers = []\n",
    "for _, row in depo_data.iterrows():\n",
    "    tenor = ql.Period(row['Tenor'])\n",
    "    t = day_counter.yearFraction(spot, ql.TARGET().advance(spot, tenor))\n",
    "    F_on = eonia_curve.forwardRate(\n",
    "        spot,\n",
    "        ql.TARGET().advance(spot, tenor),\n",
    "        ql.Actual360(),\n",
    "        ql.Simple,\n",
    "    ).rate()\n",
    "    F = F_on + alpha\n",
    "    print(f\"{tenor}: {F * 100:.4} %\")\n",
    "    synth_helpers.append(\n",
    "        ql.DepositRateHelper(\n",
    "            ql.QuoteHandle(ql.SimpleQuote(F)),\n",
    "            tenor,\n",
    "            row['Settlement days'],\n",
    "            ql.TARGET(),\n",
    "            ql.Following,\n",
    "            False,\n",
    "            ql.Actual360(),\n",
    "        )\n",
    "    )"
   ]
  },
  {
   "cell_type": "markdown",
   "id": "10831912",
   "metadata": {},
   "source": [
    "...after which we can create a new curve, which seems to have a smaller dip:"
   ]
  },
  {
   "cell_type": "code",
   "execution_count": null,
   "id": "6bd668f1",
   "metadata": {},
   "outputs": [],
   "source": [
    "euribor6m_curve = ql.PiecewiseLogCubicDiscount(\n",
    "    2, ql.TARGET(), helpers + synth_helpers, ql.Actual365Fixed()\n",
    ")\n",
    "euribor6m_curve.enableExtrapolation()"
   ]
  },
  {
   "cell_type": "code",
   "execution_count": null,
   "id": "d4aeb4fe",
   "metadata": {},
   "outputs": [],
   "source": [
    "dates = [spot + ql.Period(i, ql.Weeks) for i in range(0, 52 * 4 + 1)]\n",
    "rates_0 = [\n",
    "    euribor6m_curve_0.forwardRate(\n",
    "        d, euribor6m.maturityDate(d), ql.Actual360(), ql.Simple\n",
    "    ).rate()\n",
    "    for d in dates\n",
    "]\n",
    "rates = [\n",
    "    euribor6m_curve.forwardRate(\n",
    "        d, euribor6m.maturityDate(d), ql.Actual360(), ql.Simple\n",
    "    ).rate()\n",
    "    for d in dates\n",
    "]\n",
    "\n",
    "ax = plt.figure(figsize=(9, 6)).add_subplot(1, 1, 1)\n",
    "ax.axhline(0.0, linewidth=1, color=\"black\")\n",
    "ax.set_xlim(min(dates).to_date(), max(dates).to_date())\n",
    "ax.yaxis.set_major_formatter(PercentFormatter(1.0))\n",
    "ax.plot(\n",
    "    [d.to_date() for d in dates],\n",
    "    rates_0,\n",
    "    \"-\",\n",
    "    label=\"without synthetic deposits\",\n",
    ")\n",
    "ax.plot(\n",
    "    [d.to_date() for d in dates],\n",
    "    rates,\n",
    "    \"-\",\n",
    "    label=\"with synthetic deposits\",\n",
    ")\n",
    "ax.grid(alpha=0.4)\n",
    "ax.legend();"
   ]
  },
  {
   "cell_type": "markdown",
   "id": "cebc9a58",
   "metadata": {},
   "source": [
    "By choosing to sample at different dates, we can zoom into the affected area. The original curve is the dotted line; the new curve is the solid one."
   ]
  },
  {
   "cell_type": "code",
   "execution_count": null,
   "id": "ad456fa9",
   "metadata": {},
   "outputs": [],
   "source": [
    "dates = [spot + ql.Period(i, ql.Weeks) for i in range(65, 130)]\n",
    "rates_0 = [\n",
    "    euribor6m_curve_0.forwardRate(\n",
    "        d, euribor6m.maturityDate(d), ql.Actual360(), ql.Simple\n",
    "    ).rate()\n",
    "    for d in dates\n",
    "]\n",
    "rates = [\n",
    "    euribor6m_curve.forwardRate(\n",
    "        d, euribor6m.maturityDate(d), ql.Actual360(), ql.Simple\n",
    "    ).rate()\n",
    "    for d in dates\n",
    "]\n",
    "\n",
    "ax = plt.figure(figsize=(9, 6)).add_subplot(1, 1, 1)\n",
    "ax.set_xlim(min(dates).to_date(), max(dates).to_date())\n",
    "ax.yaxis.set_major_formatter(PercentFormatter(1.0))\n",
    "ax.plot(\n",
    "    [d.to_date() for d in dates],\n",
    "    rates_0,\n",
    "    \".\",\n",
    "    label=\"without synthetic deposits\",\n",
    ")\n",
    "ax.plot(\n",
    "    [d.to_date() for d in dates],\n",
    "    rates,\n",
    "    \"-\",\n",
    "    label=\"with synthetic deposits\",\n",
    ")\n",
    "ax.grid(alpha=0.4)\n",
    "ax.legend();"
   ]
  },
  {
   "attachments": {},
   "cell_type": "markdown",
   "id": "fffb8ac3",
   "metadata": {},
   "source": [
    "If we wanted to determine more coefficients for the basis, we'd have to select more quotes and solve a linear system. For instance, to determine both $\\alpha$ and $\\beta$, we can use the TOM 6-months and the 1x7 FRAs.  However, I'll leave this exercise to that mythical creature, the interested reader.\n",
    "\n",
    "One thing to note: the values I'm getting for the synthetic deposits are not the same as those reported by the paper in figure 17.  I haven't found the reason for the discrepancy.\n",
    "\n",
    "As for figure 32 in the paper, here's how we can reproduce it:"
   ]
  },
  {
   "cell_type": "code",
   "execution_count": null,
   "id": "6642df2f",
   "metadata": {},
   "outputs": [],
   "source": [
    "fig = plt.figure(figsize=(9, 10))\n",
    "\n",
    "spot = euribor6m_curve.referenceDate()\n",
    "dates = [spot + ql.Period(i, ql.Weeks) for i in range(0, 2 * 52 + 1)]\n",
    "rates = [\n",
    "    euribor6m_curve.forwardRate(\n",
    "        d, euribor6m.maturityDate(d), ql.Actual360(), ql.Simple\n",
    "    ).rate()\n",
    "    for d in dates\n",
    "]\n",
    "\n",
    "ax1 = fig.add_subplot(2, 1, 1)\n",
    "ax1.set_title(\"EUR yield curve 6M (0-2Y)\")\n",
    "ax1.set_xlim(min(dates).to_date(), max(dates).to_date())\n",
    "ax1.yaxis.set_major_formatter(PercentFormatter(1.0))\n",
    "ax1.set_ylim(0.0, 0.0075)\n",
    "ax1.plot([d.to_date() for d in dates], rates, \"-\")\n",
    "ax1.grid(alpha=0.4)\n",
    "\n",
    "spot = euribor6m_curve.referenceDate()\n",
    "dates = [spot + ql.Period(i, ql.Months) for i in range(0, 60 * 12 + 1)]\n",
    "rates = [\n",
    "    euribor6m_curve.forwardRate(\n",
    "        d, euribor6m.maturityDate(d), ql.Actual360(), ql.Simple\n",
    "    ).rate()\n",
    "    for d in dates\n",
    "]\n",
    "\n",
    "ax2 = fig.add_subplot(2, 1, 2)\n",
    "ax2.set_title(\"EUR yield curve 6M (0-60Y)\")\n",
    "ax2.axhline(0.0, linewidth=1, color=\"black\")\n",
    "ax2.set_xlim(min(dates).to_date(), max(dates).to_date())\n",
    "ax2.yaxis.set_major_formatter(PercentFormatter(1.0))\n",
    "ax2.plot([d.to_date() for d in dates], rates, \"-\")\n",
    "ax2.grid(alpha=0.4);"
   ]
  },
  {
   "cell_type": "markdown",
   "id": "9c07df5d",
   "metadata": {},
   "source": [
    "## 12-months Euribor curve"
   ]
  },
  {
   "cell_type": "markdown",
   "id": "e85229a6-9ce1-4641-9da6-9cb33040b754",
   "metadata": {},
   "source": [
    "For the 12-months curve, we'll use the instruments from figure 33 (including data from figures 6 and 15) and reproduce figure 34."
   ]
  },
  {
   "cell_type": "code",
   "execution_count": null,
   "id": "16db0107-76b6-4e2d-b415-d2f155bbf7f9",
   "metadata": {},
   "outputs": [],
   "source": [
    "euribor12m_data = pd.read_csv(\n",
    "    'euribor-12m-curve.csv',\n",
    "    dtype={'Settlement days': 'Int16'},\n",
    "    parse_dates=['Start date', 'End date'],\n",
    ")\n",
    "euribor12m_data"
   ]
  },
  {
   "cell_type": "markdown",
   "id": "2cd940c7-8e83-4b3a-a40d-bb7cd18d8966",
   "metadata": {},
   "source": [
    "We'll start with the quoted 12-months deposit and 12x24 FRA (see figures 4 and 6)."
   ]
  },
  {
   "cell_type": "code",
   "execution_count": null,
   "id": "a129544b-14df-42a2-a020-15a54aae8a01",
   "metadata": {},
   "outputs": [],
   "source": [
    "depo_data = euribor12m_data[4:5]\n",
    "depo_data"
   ]
  },
  {
   "cell_type": "code",
   "execution_count": null,
   "id": "80e2d890-12b6-4308-92aa-5300f33df563",
   "metadata": {},
   "outputs": [],
   "source": [
    "fra_data = euribor12m_data[8:9]\n",
    "fra_data"
   ]
  },
  {
   "cell_type": "code",
   "execution_count": null,
   "id": "116e719e",
   "metadata": {},
   "outputs": [],
   "source": [
    "euribor12m = ql.Euribor1Y()\n",
    "helpers = [\n",
    "    ql.DepositRateHelper(\n",
    "        ql.QuoteHandle(ql.SimpleQuote(row['Quote'] / 100)),\n",
    "        ql.Period(row['Tenor']),\n",
    "        row['Settlement days'],\n",
    "        ql.TARGET(),\n",
    "        ql.Following,\n",
    "        False,\n",
    "        ql.Actual360(),\n",
    "    )\n",
    "    for _, row in depo_data.iterrows()\n",
    "]\n",
    "helpers += [\n",
    "    ql.FraRateHelper(\n",
    "        ql.QuoteHandle(ql.SimpleQuote(row['Quote'] / 100)),\n",
    "        ql.Period(row['Tenor']).length(),\n",
    "        euribor12m,\n",
    "    )\n",
    "    for _, row in fra_data.iterrows()\n",
    "]"
   ]
  },
  {
   "cell_type": "markdown",
   "id": "63c46369",
   "metadata": {},
   "source": [
    "Unfortunately, there are no quoted swap rates against 12-months Euribor.  However, the market quotes 6- vs 12-months basis swaps; and more importantly, it quotes them as a portfolio of two IRS, payer and receiver, both accruing annual fixed coupons against Euribor 6M and 12M, respectively. The spread between the two fixed legs is quoted so that it sets the NPV of the portfolio at zero.\n",
    "\n",
    "Given that the market also quotes the fair fixed rate for one of the two swaps, i.e., the one paying a fixed rate against Euribor 6M, it's straightforward to see that the fair fixed rate for the swap against Euribor 12M can be obtained by just adding the 6M rate to the basis spread: that is, if the NPV of a swap $S_1$ paying $K$ against Euribor 6M is 0, and if the NPV of the portfolio of $S_1$ minus another swap $S_2$ paying $K+S$ against Euribor 12M is also 0, then the NPV of $S_2$ must be 0 as well.\n",
    "\n",
    "This gives us quoted swap rates against Euribor 12M up to 30 years, which is the longest quoted maturity for basis swaps. The data are from figures 9 and 15.\n",
    "\n",
    "Note that we're keeping the original approach of the paper here, but in more recent versions of QuantLib it's no longer necessary to synthesize swap quotes; the library provides an `IborIborBasisSwapRateHelper` class that can use the basis-spread quote directly."
   ]
  },
  {
   "cell_type": "code",
   "execution_count": null,
   "id": "8fb21ba4-081a-466a-937b-17e91cff90a0",
   "metadata": {},
   "outputs": [],
   "source": [
    "basis_data = euribor12m_data[11:24]\n",
    "basis_data"
   ]
  },
  {
   "cell_type": "code",
   "execution_count": null,
   "id": "d3da3e05-59f0-4a7b-bb18-77152ffc869e",
   "metadata": {},
   "outputs": [],
   "source": [
    "irs_data = euribor6m_data[29:42]\n",
    "irs_data"
   ]
  },
  {
   "cell_type": "markdown",
   "id": "147e59f8-3816-4d65-acd8-af533cf28ced",
   "metadata": {},
   "source": [
    "While instantiating the helpers, we also need to take into account the fact that the IRS are quoted as percentages and the basis as bps."
   ]
  },
  {
   "cell_type": "code",
   "execution_count": null,
   "id": "6eb0f067",
   "metadata": {},
   "outputs": [],
   "source": [
    "helpers += [\n",
    "    ql.SwapRateHelper(\n",
    "        ql.QuoteHandle(ql.SimpleQuote(irs['Quote'] / 100 + basis['Quote'] / 10000)),\n",
    "        ql.Period(basis['Tenor']),\n",
    "        ql.TARGET(),\n",
    "        ql.Annual,\n",
    "        ql.Unadjusted,\n",
    "        ql.Thirty360(ql.Thirty360.BondBasis),\n",
    "        euribor12m,\n",
    "        ql.QuoteHandle(),\n",
    "        ql.Period(0, ql.Days),\n",
    "        discount_curve,\n",
    "        basis['Settlement days']\n",
    "    )\n",
    "    for (_, basis), (_, irs) in zip(basis_data.iterrows(), irs_data.iterrows())\n",
    "]"
   ]
  },
  {
   "cell_type": "markdown",
   "id": "34029357",
   "metadata": {},
   "source": [
    "Again, we'll be using synthetic helpers to improve the shape of the short end of the curve.  The same procedure we used for the Euribor 6M curve lets us create deposits with a number of maturities below 1 year; I'll skip the calculation and just create helpers with the the resulting rates as reported by the paper."
   ]
  },
  {
   "cell_type": "code",
   "execution_count": null,
   "id": "f408b0dc-76e6-443d-945f-33ea9e736dba",
   "metadata": {},
   "outputs": [],
   "source": [
    "depo_data = euribor12m_data[:4]\n",
    "depo_data"
   ]
  },
  {
   "cell_type": "code",
   "execution_count": null,
   "id": "62fa73bc",
   "metadata": {},
   "outputs": [],
   "source": [
    "synth_helpers = [\n",
    "    ql.DepositRateHelper(\n",
    "        ql.QuoteHandle(ql.SimpleQuote(row['Quote'] / 100)),\n",
    "        ql.Period(row['Tenor']),\n",
    "        row['Settlement days'],\n",
    "        ql.TARGET(),\n",
    "        ql.Following,\n",
    "        False,\n",
    "        ql.Actual360(),\n",
    "    )\n",
    "    for _, row in depo_data.iterrows()\n",
    "]"
   ]
  },
  {
   "cell_type": "markdown",
   "id": "b78fa38a",
   "metadata": {},
   "source": [
    "It is also possible to build synthetic FRAs: their construction is explained in the paper. I'll leave it, possibly, to a later version of this notebook; for the time being, I'll just add the finished helpers."
   ]
  },
  {
   "cell_type": "code",
   "execution_count": null,
   "id": "32965536-feaa-485b-9fa2-7897dddc4293",
   "metadata": {},
   "outputs": [],
   "source": [
    "fra_data = euribor12m_data.loc[[5,6,7,9,10]]\n",
    "fra_data"
   ]
  },
  {
   "cell_type": "code",
   "execution_count": null,
   "id": "fc4911da",
   "metadata": {},
   "outputs": [],
   "source": [
    "synth_helpers += [\n",
    "    ql.FraRateHelper(\n",
    "        ql.QuoteHandle(ql.SimpleQuote(row['Quote'] / 100)),\n",
    "        ql.Period(row['Tenor']).length(),\n",
    "        euribor12m,\n",
    "    )\n",
    "    for _, row in fra_data.iterrows()\n",
    "]"
   ]
  },
  {
   "cell_type": "markdown",
   "id": "5b3c161c",
   "metadata": {},
   "source": [
    "Finally, we can extend the long end of the curve by creating synthetic swaps with maturities above 30 years.  To calculate their rates, we add the swap rates against Euribor 6M (quoted up to 60 years) to the last quoted basis spread."
   ]
  },
  {
   "cell_type": "code",
   "execution_count": null,
   "id": "a4e7866c-4af7-4de4-be24-bbc0c53ea083",
   "metadata": {},
   "outputs": [],
   "source": [
    "irs_data = euribor6m_data[42:]\n",
    "irs_data"
   ]
  },
  {
   "cell_type": "code",
   "execution_count": null,
   "id": "f6c7b2a5",
   "metadata": {},
   "outputs": [],
   "source": [
    "last_basis = basis_data['Quote'][basis_data.last_valid_index()]\n",
    "synth_helpers += [\n",
    "    ql.SwapRateHelper(\n",
    "        ql.QuoteHandle(ql.SimpleQuote(row['Quote'] / 100 + last_basis / 10000)),\n",
    "        ql.Period(row['Tenor']),\n",
    "        ql.TARGET(),\n",
    "        ql.Annual,\n",
    "        ql.Unadjusted,\n",
    "        ql.Thirty360(ql.Thirty360.BondBasis),\n",
    "        euribor12m,\n",
    "        ql.QuoteHandle(),\n",
    "        ql.Period(0, ql.Days),\n",
    "        discount_curve,\n",
    "        row['Settlement days']\n",
    "    )\n",
    "    for _, row in irs_data.iterrows()\n",
    "]"
   ]
  },
  {
   "cell_type": "markdown",
   "id": "d9745c7c",
   "metadata": {},
   "source": [
    "Bootstrapping over the whole set of real and synthetic quotes gives us our final Euribor 12M curve:"
   ]
  },
  {
   "cell_type": "code",
   "execution_count": null,
   "id": "671407e4",
   "metadata": {},
   "outputs": [],
   "source": [
    "euribor12m_curve = ql.PiecewiseLogCubicDiscount(\n",
    "    2, ql.TARGET(), helpers + synth_helpers, ql.Actual365Fixed()\n",
    ")\n",
    "euribor12m_curve.enableExtrapolation()"
   ]
  },
  {
   "cell_type": "markdown",
   "id": "4ec3f9a7",
   "metadata": {},
   "source": [
    "For comparison, we can build another one excluding the synthetic helpers.  Note that this second curve won't extend beyond 30 years."
   ]
  },
  {
   "cell_type": "code",
   "execution_count": null,
   "id": "a117187c",
   "metadata": {},
   "outputs": [],
   "source": [
    "euribor12m_curve_0 = ql.PiecewiseLogCubicDiscount(\n",
    "    2, ql.TARGET(), helpers, ql.Actual365Fixed()\n",
    ")\n",
    "euribor12m_curve_0.enableExtrapolation()"
   ]
  },
  {
   "cell_type": "markdown",
   "id": "ce990af4",
   "metadata": {},
   "source": [
    "The two curves are plotted together in the two following graphs, which also reproduce figure 34 in the paper.  The solid line corresponds to the complete curve, and the dashed line to the curve without the synthetic helpers.  The differences are obvious, both in the short and in the long end."
   ]
  },
  {
   "cell_type": "code",
   "execution_count": null,
   "id": "14fdd687",
   "metadata": {},
   "outputs": [],
   "source": [
    "fig = plt.figure(figsize=(9, 10))\n",
    "\n",
    "spot = euribor12m_curve.referenceDate()\n",
    "dates = [spot + ql.Period(i, ql.Weeks) for i in range(0, 2 * 52 + 1)]\n",
    "rates_0 = [\n",
    "    euribor12m_curve_0.forwardRate(\n",
    "        d, euribor12m.maturityDate(d), ql.Actual360(), ql.Simple\n",
    "    ).rate()\n",
    "    for d in dates\n",
    "]\n",
    "rates = [\n",
    "    euribor12m_curve.forwardRate(\n",
    "        d, euribor12m.maturityDate(d), ql.Actual360(), ql.Simple\n",
    "    ).rate()\n",
    "    for d in dates\n",
    "]\n",
    "\n",
    "ax1 = fig.add_subplot(2, 1, 1)\n",
    "ax1.set_title(\"EUR yield curve 12M (0-2Y)\")\n",
    "ax1.axhline(0.0, linewidth=1, color=\"black\")\n",
    "ax1.set_xlim(min(dates).to_date(), max(dates).to_date())\n",
    "ax1.yaxis.set_major_formatter(PercentFormatter(1.0))\n",
    "ax1.plot([d.to_date() for d in dates], rates, \"-\", label=\"complete curve\")\n",
    "ax1.plot(\n",
    "    [d.to_date() for d in dates],\n",
    "    rates_0,\n",
    "    \"--\",\n",
    "    label=\"without synthetic helpers\",\n",
    ")\n",
    "ax1.grid(alpha=0.4)\n",
    "ax1.legend()\n",
    "\n",
    "dates = [spot + ql.Period(i, ql.Months) for i in range(0, 60 * 12 + 1)]\n",
    "rates_0 = [\n",
    "    euribor12m_curve_0.forwardRate(\n",
    "        d, euribor12m.maturityDate(d), ql.Actual360(), ql.Simple\n",
    "    ).rate()\n",
    "    for d in dates\n",
    "]\n",
    "rates = [\n",
    "    euribor12m_curve.forwardRate(\n",
    "        d, euribor12m.maturityDate(d), ql.Actual360(), ql.Simple\n",
    "    ).rate()\n",
    "    for d in dates\n",
    "]\n",
    "\n",
    "ax2 = fig.add_subplot(2, 1, 2)\n",
    "ax2.set_title(\"EUR yield curve 12M (0-60Y)\")\n",
    "ax2.axhline(0.0, linewidth=1, color=\"black\")\n",
    "ax2.set_xlim(min(dates).to_date(), max(dates).to_date())\n",
    "ax2.yaxis.set_major_formatter(PercentFormatter(1.0))\n",
    "ax2.plot([d.to_date() for d in dates], rates, \"-\", label=\"complete curve\")\n",
    "ax2.plot(\n",
    "    [d.to_date() for d in dates],\n",
    "    rates_0,\n",
    "    \"--\",\n",
    "    label=\"without synthetic helpers\",\n",
    ")\n",
    "ax2.grid(alpha=0.4)\n",
    "ax2.legend();"
   ]
  },
  {
   "cell_type": "markdown",
   "id": "5b34ac1f",
   "metadata": {},
   "source": [
    "## 3-months Euribor curve"
   ]
  },
  {
   "cell_type": "markdown",
   "id": "fb2a702b",
   "metadata": {},
   "source": [
    "The instruments used for the 3-months Euribor are listed in figure 29, collecting market data from figures 6, 7, 10 and 15."
   ]
  },
  {
   "cell_type": "code",
   "execution_count": null,
   "id": "bb33ed8f-372e-48ef-89f5-01c36b731fdd",
   "metadata": {},
   "outputs": [],
   "source": [
    "euribor3m_data = pd.read_csv(\n",
    "    'euribor-3m-curve.csv',\n",
    "    dtype={'Settlement days': 'Int16'},\n",
    "    parse_dates=['Start date', 'End date'],\n",
    ")\n",
    "euribor3m_data"
   ]
  },
  {
   "cell_type": "markdown",
   "id": "157a7d2f-53a7-4148-8086-fea4b4aaebfc",
   "metadata": {},
   "source": [
    "The paper starts with a strip of very liquid futures after the 3-months deposit:"
   ]
  },
  {
   "cell_type": "code",
   "execution_count": null,
   "id": "bc2488fe-1ec5-4554-abec-5f3d9761d017",
   "metadata": {},
   "outputs": [],
   "source": [
    "depo_data = euribor3m_data[4:5]\n",
    "depo_data"
   ]
  },
  {
   "cell_type": "code",
   "execution_count": null,
   "id": "4c2e393f-bb50-43d9-b52e-e8cc8a8862f9",
   "metadata": {},
   "outputs": [],
   "source": [
    "fut_data = euribor3m_data[5:13]\n",
    "fut_data"
   ]
  },
  {
   "cell_type": "code",
   "execution_count": null,
   "id": "9ed84bba",
   "metadata": {},
   "outputs": [],
   "source": [
    "euribor3m = ql.Euribor3M()\n",
    "helpers = [\n",
    "    ql.DepositRateHelper(\n",
    "        ql.QuoteHandle(ql.SimpleQuote(row['Quote'] / 100)),\n",
    "        ql.Period(row['Tenor']),\n",
    "        row['Settlement days'],\n",
    "        ql.TARGET(),\n",
    "        ql.Following,\n",
    "        False,\n",
    "        ql.Actual360(),\n",
    "    )\n",
    "    for _, row in depo_data.iterrows()\n",
    "]\n",
    "helpers += [\n",
    "    ql.FuturesRateHelper(\n",
    "        ql.QuoteHandle(ql.SimpleQuote(row['Quote'])),\n",
    "        ql.Date.from_date(row['Start date']),\n",
    "        euribor3m,\n",
    "        ql.QuoteHandle(),\n",
    "    )\n",
    "    for _, row in fut_data.iterrows()\n",
    "]"
   ]
  },
  {
   "cell_type": "markdown",
   "id": "0aa775e5-b9c4-4b8f-8a48-1ec265225999",
   "metadata": {},
   "source": [
    "Up to 30 years, we can use available quotes for IRS against 3-months Euribor:"
   ]
  },
  {
   "cell_type": "code",
   "execution_count": null,
   "id": "c19d5671-bc94-47b4-8f79-0f0a288095d7",
   "metadata": {},
   "outputs": [],
   "source": [
    "irs_data = euribor3m_data[13:26]\n",
    "irs_data"
   ]
  },
  {
   "cell_type": "code",
   "execution_count": null,
   "id": "3bfa7589-ab7e-4ea2-82e0-bf230b6385d3",
   "metadata": {},
   "outputs": [],
   "source": [
    "helpers += [\n",
    "    ql.SwapRateHelper(\n",
    "        ql.QuoteHandle(ql.SimpleQuote(row['Quote'] / 100)),\n",
    "        ql.Period(row['Tenor']),\n",
    "        ql.TARGET(),\n",
    "        ql.Annual,\n",
    "        ql.Unadjusted,\n",
    "        ql.Thirty360(ql.Thirty360.BondBasis),\n",
    "        euribor3m,\n",
    "        ql.QuoteHandle(),\n",
    "        ql.Period(0, ql.Days),\n",
    "        discount_curve,\n",
    "        row['Settlement days']\n",
    "    )\n",
    "    for _, row in irs_data.iterrows()\n",
    "]"
   ]
  },
  {
   "cell_type": "markdown",
   "id": "80ce4e2c-2b7d-4294-8b9b-16021dc48714",
   "metadata": {},
   "source": [
    "We can add two further points by using the 3M-6M basis-spread quotes for 40 and 50 years, like we did for the 12-months curve; in this case, though, the fixed rate against Euribor 3M is lower than the one against Euribor 6M; therefore, the basis must be subtracted from the quoted rate.  Again, nowadays we could use a basis-spread helper instead."
   ]
  },
  {
   "cell_type": "code",
   "execution_count": null,
   "id": "b29e674b-6dee-497c-8b59-fe91bffd3137",
   "metadata": {},
   "outputs": [],
   "source": [
    "basis_data = euribor3m_data[27:29]\n",
    "basis_data"
   ]
  },
  {
   "cell_type": "code",
   "execution_count": null,
   "id": "b3641f05-676b-4d4a-8de0-5e9d06f9bbbb",
   "metadata": {},
   "outputs": [],
   "source": [
    "irs_data = euribor6m_data[43:45]\n",
    "irs_data"
   ]
  },
  {
   "cell_type": "code",
   "execution_count": null,
   "id": "66de35b0-a04a-471e-9494-adba59a5720a",
   "metadata": {},
   "outputs": [],
   "source": [
    "helpers += [\n",
    "    ql.SwapRateHelper(\n",
    "        ql.QuoteHandle(ql.SimpleQuote(irs['Quote'] / 100 - basis['Quote'] / 10000)),\n",
    "        ql.Period(basis['Tenor']),\n",
    "        ql.TARGET(),\n",
    "        ql.Annual,\n",
    "        ql.Unadjusted,\n",
    "        ql.Thirty360(ql.Thirty360.BondBasis),\n",
    "        euribor3m,\n",
    "        ql.QuoteHandle(),\n",
    "        ql.Period(0, ql.Days),\n",
    "        discount_curve,\n",
    "        basis['Settlement days']\n",
    "    )\n",
    "    for (_, basis), (_, irs) in zip(basis_data.iterrows(), irs_data.iterrows())\n",
    "]"
   ]
  },
  {
   "cell_type": "markdown",
   "id": "f8e0753d",
   "metadata": {},
   "source": [
    "Again, synthetic deposit rates can be calculated and added for short maturities..."
   ]
  },
  {
   "cell_type": "code",
   "execution_count": null,
   "id": "cb66d31a-2940-475a-b3e0-36503d3b50dd",
   "metadata": {},
   "outputs": [],
   "source": [
    "depo_data = euribor3m_data[:4]\n",
    "depo_data"
   ]
  },
  {
   "cell_type": "code",
   "execution_count": null,
   "id": "cefc0d9f",
   "metadata": {},
   "outputs": [],
   "source": [
    "synth_helpers = [\n",
    "    ql.DepositRateHelper(\n",
    "        ql.QuoteHandle(ql.SimpleQuote(row['Quote'] / 100)),\n",
    "        ql.Period(row['Tenor']),\n",
    "        row['Settlement days'],\n",
    "        ql.TARGET(),\n",
    "        ql.Following,\n",
    "        False,\n",
    "        ql.Actual360(),\n",
    "    )\n",
    "    for _, row in depo_data.iterrows()\n",
    "]"
   ]
  },
  {
   "cell_type": "markdown",
   "id": "a189e984",
   "metadata": {},
   "source": [
    "...and again, we can add a few synthetic swaps where quotes for the 3-months versus 6-months Euribor are not available. We can calculate a quote for the 35-years basis swap by interpolating between the 30- and 40-years quotes, and one for the 60-years basis swap by extrapolating the 40- and 50-years quotes."
   ]
  },
  {
   "cell_type": "code",
   "execution_count": null,
   "id": "a4abf45e-8db9-47c4-a63a-0a4c224ccab6",
   "metadata": {},
   "outputs": [],
   "source": [
    "basis_data = euribor3m_data[26:29]\n",
    "basis_data"
   ]
  },
  {
   "cell_type": "code",
   "execution_count": null,
   "id": "6d85f05e-01f2-4fe0-b733-1ca0630b7a8f",
   "metadata": {},
   "outputs": [],
   "source": [
    "basis_30y, basis_40y, basis_50y = basis_data['Quote']\n",
    "basis_35y = (basis_30y + basis_40y)/2\n",
    "basis_60y = basis_50y + (basis_50y - basis_40y)"
   ]
  },
  {
   "cell_type": "code",
   "execution_count": null,
   "id": "23809a11-bf38-4e79-90ef-f23f58f18c63",
   "metadata": {},
   "outputs": [],
   "source": [
    "irs_35y = euribor6m_data.loc[42]\n",
    "irs_60y = euribor6m_data.loc[45]"
   ]
  },
  {
   "cell_type": "code",
   "execution_count": null,
   "id": "71fba5be-8c5e-4cc2-8dce-5d2891decf4f",
   "metadata": {},
   "outputs": [],
   "source": [
    "synth_helpers += [\n",
    "    ql.SwapRateHelper(\n",
    "        ql.QuoteHandle(ql.SimpleQuote(irs['Quote'] / 100 - basis / 10000)),\n",
    "        ql.Period(irs['Tenor']),\n",
    "        ql.TARGET(),\n",
    "        ql.Annual,\n",
    "        ql.Unadjusted,\n",
    "        ql.Thirty360(ql.Thirty360.BondBasis),\n",
    "        euribor3m,\n",
    "        ql.QuoteHandle(),\n",
    "        ql.Period(0, ql.Days),\n",
    "        discount_curve,\n",
    "        int(irs['Settlement days']),\n",
    "    )\n",
    "    for irs, basis in [(irs_35y, basis_35y), (irs_60y, basis_60y)]\n",
    "]"
   ]
  },
  {
   "cell_type": "markdown",
   "id": "2fbc0599",
   "metadata": {},
   "source": [
    "### Turn of year"
   ]
  },
  {
   "cell_type": "markdown",
   "id": "2774e175",
   "metadata": {},
   "source": [
    "This is not the end of the story, though, since one of the futures we used turns out to be out of line with respect to the others in the strip."
   ]
  },
  {
   "cell_type": "code",
   "execution_count": null,
   "id": "4df31bd2-89e4-4d47-a7e2-6ea185c37356",
   "metadata": {},
   "outputs": [],
   "source": [
    "fut_data"
   ]
  },
  {
   "cell_type": "code",
   "execution_count": null,
   "id": "2db572cc",
   "metadata": {},
   "outputs": [],
   "source": [
    "futures = [\n",
    "    (0.1775, ql.Date(19, ql.December, 2012)),\n",
    "    (0.1274, ql.Date(20, ql.March, 2013)),\n",
    "    (0.1222, ql.Date(19, ql.June, 2013)),\n",
    "    (0.1269, ql.Date(18, ql.September, 2013)),\n",
    "    (0.1565, ql.Date(18, ql.December, 2013)),\n",
    "    (0.1961, ql.Date(19, ql.March, 2014)),\n",
    "    (0.2556, ql.Date(18, ql.June, 2014)),\n",
    "    (0.3101, ql.Date(17, ql.September, 2014)),\n",
    "]"
   ]
  },
  {
   "cell_type": "markdown",
   "id": "4295f372",
   "metadata": {},
   "source": [
    "Not surprisingly, it's the one that spans the end of the year and thus includes the corresponding jump; that is, the one at index 4 in the list, starting on December 18th. This can be seen clearly enough by fitting a spline between the other futures and plotting the quoted value against the curve:"
   ]
  },
  {
   "cell_type": "code",
   "execution_count": null,
   "id": "5b8153fb",
   "metadata": {},
   "outputs": [],
   "source": [
    "spot = euribor6m_curve.referenceDate()\n",
    "day_counter = euribor3m.dayCounter()\n",
    "quotes, times = zip(\n",
    "    *[(row['Quote'], day_counter.yearFraction(spot, ql.Date.from_date(row['Start date'])))\n",
    "      for _, row in fut_data.iterrows()]\n",
    ")\n",
    "f = ql.MonotonicCubicNaturalSpline(\n",
    "    times[:4] + times[5:], quotes[:4] + quotes[5:]\n",
    ")"
   ]
  },
  {
   "cell_type": "code",
   "execution_count": null,
   "id": "c95e694d",
   "metadata": {},
   "outputs": [],
   "source": [
    "ts, fs = zip(*[(t, f(t, True)) for t in np.arange(0.0, 2.0, 0.01)])\n",
    "ax = plt.figure(figsize=(9, 6)).add_subplot(1, 1, 1)\n",
    "ax.plot(ts, fs)\n",
    "ax.plot(times, quotes, \"o\")\n",
    "ax.grid(alpha=0.4);"
   ]
  },
  {
   "cell_type": "markdown",
   "id": "75842fbd",
   "metadata": {},
   "source": [
    "We can also ask the interpolation for the estimated value, convert it into the corresponding rate, and compare it with the real one:"
   ]
  },
  {
   "cell_type": "code",
   "execution_count": null,
   "id": "7683c351",
   "metadata": {},
   "outputs": [],
   "source": [
    "quoted = (100 - quotes[4]) / 100\n",
    "estimated = (100 - f(times[4])) / 100\n",
    "print(f\"{quoted:.3%}\")\n",
    "print(f\"{estimated:.3%}\")"
   ]
  },
  {
   "cell_type": "markdown",
   "id": "0ac8cc63",
   "metadata": {},
   "source": [
    "To account for the jump, we can estimate the corresponding discount factor $e^{-J*\\tau}$ (where both $J$ and $\\tau$ are calculated with respect to the tenor of the futures) and add it to the curve."
   ]
  },
  {
   "cell_type": "code",
   "execution_count": null,
   "id": "94ed412f",
   "metadata": {},
   "outputs": [],
   "source": [
    "J = quoted - estimated\n",
    "tau = day_counter.yearFraction(\n",
    "    ql.Date(18, ql.December, 2013), ql.Date(18, ql.March, 2014)\n",
    ")\n",
    "print(f\"{J:.5%}\")\n",
    "print(tau)"
   ]
  },
  {
   "cell_type": "code",
   "execution_count": null,
   "id": "fa8f082b",
   "metadata": {},
   "outputs": [],
   "source": [
    "jumps = [ql.QuoteHandle(ql.SimpleQuote(math.exp(-J * tau)))]\n",
    "jump_dates = [ql.Date(31, ql.December, 2013)]\n",
    "euribor3m_curve = ql.PiecewiseLogCubicDiscount(\n",
    "    2,\n",
    "    ql.TARGET(),\n",
    "    helpers + synth_helpers,\n",
    "    ql.Actual365Fixed(),\n",
    "    jumps,\n",
    "    jump_dates,\n",
    ")\n",
    "euribor3m_curve.enableExtrapolation()"
   ]
  },
  {
   "cell_type": "markdown",
   "id": "f636f0f9",
   "metadata": {},
   "source": [
    "We can now reproduce figure 30 in the paper. The end-of-year jump can be seen clearly in the first plot."
   ]
  },
  {
   "cell_type": "code",
   "execution_count": null,
   "id": "d9b22de7",
   "metadata": {},
   "outputs": [],
   "source": [
    "fig = plt.figure(figsize=(9, 10))\n",
    "\n",
    "spot = euribor3m_curve.referenceDate()\n",
    "dates = [spot + ql.Period(i, ql.Weeks) for i in range(0, 2 * 52 + 1)]\n",
    "rates = [\n",
    "    euribor3m_curve.forwardRate(\n",
    "        d, euribor3m.maturityDate(d), ql.Actual360(), ql.Simple\n",
    "    ).rate()\n",
    "    for d in dates\n",
    "]\n",
    "\n",
    "ax1 = fig.add_subplot(2, 1, 1)\n",
    "ax1.set_title(\"EUR yield curve 3M (0-2Y)\")\n",
    "ax1.axhline(0.0, linewidth=1, color=\"black\")\n",
    "ax1.set_xlim(min(dates).to_date(), max(dates).to_date())\n",
    "ax1.yaxis.set_major_formatter(PercentFormatter(1.0))\n",
    "ax1.set_ylim(0.0, 0.0075)\n",
    "ax1.plot([d.to_date() for d in dates], rates, \"-\")\n",
    "ax1.grid(alpha=0.4)\n",
    "\n",
    "dates = [spot + ql.Period(i, ql.Months) for i in range(0, 60 * 12 + 1)]\n",
    "rates = [\n",
    "    euribor3m_curve.forwardRate(\n",
    "        d, euribor3m.maturityDate(d), ql.Actual360(), ql.Simple\n",
    "    ).rate()\n",
    "    for d in dates\n",
    "]\n",
    "\n",
    "ax2 = fig.add_subplot(2, 1, 2)\n",
    "ax2.set_title(\"EUR yield curve 3M (0-60Y)\")\n",
    "ax2.axhline(0.0, linewidth=1, color=\"black\")\n",
    "ax2.set_xlim(min(dates).to_date(), max(dates).to_date())\n",
    "ax2.yaxis.set_major_formatter(PercentFormatter(1.0))\n",
    "ax2.plot([d.to_date() for d in dates], rates, \"-\")\n",
    "ax2.grid(alpha=0.4);"
   ]
  },
  {
   "cell_type": "markdown",
   "id": "c884a08e",
   "metadata": {},
   "source": [
    "## 1-month Euribor curve"
   ]
  },
  {
   "cell_type": "markdown",
   "id": "98113626",
   "metadata": {},
   "source": [
    "Last, let's bootstrap the 1-month Euribor curve. Quoted instruments are listed in figures 27 and come from figures 4, 9 and 15."
   ]
  },
  {
   "cell_type": "code",
   "execution_count": null,
   "id": "b135ae8b-1124-4849-ad67-9af1a7a62e4b",
   "metadata": {},
   "outputs": [],
   "source": [
    "euribor1m_data = pd.read_csv(\n",
    "    'euribor-1m-curve.csv',\n",
    "    dtype={'Settlement days': 'Int16'},\n",
    "    parse_dates=['Start date', 'End date'],\n",
    ")\n",
    "euribor1m_data"
   ]
  },
  {
   "cell_type": "markdown",
   "id": "faf2eb7e-33ab-4308-85ab-0adefedca590",
   "metadata": {},
   "source": [
    "The short end of the curve includes the 1-month deposit and a strip of interest-rate swaps paying a monthly fixed rate against 1-month Euribor with maturities up to 1 year."
   ]
  },
  {
   "cell_type": "code",
   "execution_count": null,
   "id": "0f7f0025-3ba4-437a-9568-7c55ecde05c2",
   "metadata": {},
   "outputs": [],
   "source": [
    "depo_data = euribor1m_data[4:5]\n",
    "depo_data"
   ]
  },
  {
   "cell_type": "code",
   "execution_count": null,
   "id": "c9157222-c68a-49f9-9c06-98a567650a23",
   "metadata": {},
   "outputs": [],
   "source": [
    "irs_data = euribor1m_data[5:16]\n",
    "irs_data"
   ]
  },
  {
   "cell_type": "code",
   "execution_count": null,
   "id": "103985f0",
   "metadata": {},
   "outputs": [],
   "source": [
    "euribor1m = ql.Euribor1M()\n",
    "helpers = [\n",
    "    ql.DepositRateHelper(\n",
    "        ql.QuoteHandle(ql.SimpleQuote(row['Quote'] / 100)),\n",
    "        ql.Period(row['Tenor']),\n",
    "        row['Settlement days'],\n",
    "        ql.TARGET(),\n",
    "        ql.Following,\n",
    "        False,\n",
    "        ql.Actual360(),\n",
    "    )\n",
    "    for _, row in depo_data.iterrows()\n",
    "]\n",
    "helpers += [\n",
    "    ql.SwapRateHelper(\n",
    "        ql.QuoteHandle(ql.SimpleQuote(row['Quote'] / 100)),\n",
    "        ql.Period(row['Tenor']),\n",
    "        ql.TARGET(),\n",
    "        ql.Monthly,\n",
    "        ql.Unadjusted,\n",
    "        ql.Thirty360(ql.Thirty360.BondBasis),\n",
    "        euribor1m,\n",
    "        ql.QuoteHandle(),\n",
    "        ql.Period(0, ql.Days),\n",
    "        discount_curve,\n",
    "        row['Settlement days'],\n",
    "    )\n",
    "    for _, row in irs_data.iterrows()\n",
    "]"
   ]
  },
  {
   "cell_type": "markdown",
   "id": "cbd102aa",
   "metadata": {},
   "source": [
    "For longer maturities, we can combine the swaps against 6-months Euribor with the 1-month vs 6-months basis swaps shown in figure 15."
   ]
  },
  {
   "cell_type": "code",
   "execution_count": null,
   "id": "f79b3a95-b5de-4e58-bc88-056e2c7497ca",
   "metadata": {},
   "outputs": [],
   "source": [
    "basis_data = euribor1m_data[16:]\n",
    "basis_data"
   ]
  },
  {
   "cell_type": "code",
   "execution_count": null,
   "id": "65652963-2c1a-41b1-8368-11231b817532",
   "metadata": {},
   "outputs": [],
   "source": [
    "irs_data = euribor6m_data[28:42]\n",
    "irs_data"
   ]
  },
  {
   "cell_type": "code",
   "execution_count": null,
   "id": "51bc6232",
   "metadata": {},
   "outputs": [],
   "source": [
    "helpers += [\n",
    "    ql.SwapRateHelper(\n",
    "        ql.QuoteHandle(ql.SimpleQuote(irs['Quote'] / 100 - basis['Quote'] / 10000)),\n",
    "        ql.Period(basis['Tenor']),\n",
    "        ql.TARGET(),\n",
    "        ql.Annual,\n",
    "        ql.Unadjusted,\n",
    "        ql.Thirty360(ql.Thirty360.BondBasis),\n",
    "        euribor1m,\n",
    "        ql.QuoteHandle(),\n",
    "        ql.Period(0, ql.Days),\n",
    "        discount_curve,\n",
    "        basis['Settlement days']\n",
    "    )\n",
    "    for (_, basis), (_, irs) in zip(basis_data.iterrows(), irs_data.iterrows())\n",
    "]"
   ]
  },
  {
   "cell_type": "markdown",
   "id": "218af3e0",
   "metadata": {},
   "source": [
    "As before, we can use synthetic deposits for maturities below the 1-month tenor..."
   ]
  },
  {
   "cell_type": "code",
   "execution_count": null,
   "id": "9aaef810-1b86-4e39-8b1a-cb183cd9837e",
   "metadata": {},
   "outputs": [],
   "source": [
    "depo_data = euribor1m_data[:4]\n",
    "depo_data"
   ]
  },
  {
   "cell_type": "code",
   "execution_count": null,
   "id": "f8fb207f",
   "metadata": {},
   "outputs": [],
   "source": [
    "synth_helpers = [\n",
    "    ql.DepositRateHelper(\n",
    "        ql.QuoteHandle(ql.SimpleQuote(row['Quote'] / 100)),\n",
    "        ql.Period(row['Tenor']),\n",
    "        row['Settlement days'],\n",
    "        ql.TARGET(),\n",
    "        ql.Following,\n",
    "        False,\n",
    "        ql.Actual360(),\n",
    "    )\n",
    "    for _, row in depo_data.iterrows()\n",
    "]"
   ]
  },
  {
   "cell_type": "markdown",
   "id": "469c06be",
   "metadata": {},
   "source": [
    "...and we'll extend the 30-years basis spread flatly to combine it with longer-maturity swaps against 6-months Euribor."
   ]
  },
  {
   "cell_type": "code",
   "execution_count": null,
   "id": "e1aa714e-0827-400b-948d-879096881f68",
   "metadata": {},
   "outputs": [],
   "source": [
    "irs_data = euribor6m_data[42:]\n",
    "irs_data"
   ]
  },
  {
   "cell_type": "code",
   "execution_count": null,
   "id": "699d72e3",
   "metadata": {},
   "outputs": [],
   "source": [
    "last_basis = basis_data['Quote'][basis_data.last_valid_index()]\n",
    "synth_helpers += [\n",
    "    ql.SwapRateHelper(\n",
    "        ql.QuoteHandle(ql.SimpleQuote(row['Quote'] / 100 - last_basis / 10000)),\n",
    "        ql.Period(row['Tenor']),\n",
    "        ql.TARGET(),\n",
    "        ql.Annual,\n",
    "        ql.Unadjusted,\n",
    "        ql.Thirty360(ql.Thirty360.BondBasis),\n",
    "        euribor1m,\n",
    "        ql.QuoteHandle(),\n",
    "        ql.Period(0, ql.Days),\n",
    "        discount_curve,\n",
    "        row['Settlement days']\n",
    "    )\n",
    "    for _, row in irs_data.iterrows()\n",
    "]"
   ]
  },
  {
   "cell_type": "markdown",
   "id": "ba805042",
   "metadata": {},
   "source": [
    "This curve, too, shows a jump at the end of the year.  The paper claims that it can be determined and corrected by interpolating the quoted swaps with maturities from 1 to 12 months, but I haven't reproduced the calculation yet. For the time being, I'll just use the value reported in the paper and calculate the corresponding discount factor."
   ]
  },
  {
   "cell_type": "code",
   "execution_count": null,
   "id": "6f5002af",
   "metadata": {},
   "outputs": [],
   "source": [
    "J = 0.0016\n",
    "t_j = euribor1m.dayCounter().yearFraction(\n",
    "    ql.Date(31, ql.December, 2012), ql.Date(2, ql.January, 2013)\n",
    ")\n",
    "B = 1.0 / (1.0 + J * t_j)\n",
    "jumps = [ql.QuoteHandle(ql.SimpleQuote(B))]\n",
    "jump_dates = [ql.Date(31, ql.December, 2013)]"
   ]
  },
  {
   "cell_type": "code",
   "execution_count": null,
   "id": "bc795870",
   "metadata": {},
   "outputs": [],
   "source": [
    "euribor1m_curve = ql.PiecewiseLogCubicDiscount(\n",
    "    2,\n",
    "    ql.TARGET(),\n",
    "    helpers + synth_helpers,\n",
    "    ql.Actual365Fixed(),\n",
    "    jumps,\n",
    "    jump_dates,\n",
    ")\n",
    "euribor1m_curve.enableExtrapolation()"
   ]
  },
  {
   "cell_type": "markdown",
   "id": "06a43ae1",
   "metadata": {},
   "source": [
    "This last curve gives us figure 28 in the paper, down to the oscillations during the first year."
   ]
  },
  {
   "cell_type": "code",
   "execution_count": null,
   "id": "72a9dceb",
   "metadata": {},
   "outputs": [],
   "source": [
    "fig = plt.figure(figsize=(9, 10))\n",
    "\n",
    "spot = euribor1m_curve.referenceDate()\n",
    "dates = [spot + ql.Period(i, ql.Weeks) for i in range(0, 2 * 52 + 1)]\n",
    "rates = [\n",
    "    euribor1m_curve.forwardRate(\n",
    "        d, euribor1m.maturityDate(d), ql.Actual360(), ql.Simple\n",
    "    ).rate()\n",
    "    for d in dates\n",
    "]\n",
    "\n",
    "ax1 = fig.add_subplot(2, 1, 1)\n",
    "ax1.set_title(\"EUR yield curve 1M (0-2Y)\")\n",
    "ax1.axhline(0.0, linewidth=1, color=\"black\")\n",
    "ax1.set_xlim(min(dates).to_date(), max(dates).to_date())\n",
    "ax1.yaxis.set_major_formatter(PercentFormatter(1.0))\n",
    "ax1.set_ylim(0.0, 0.0075)\n",
    "ax1.plot([d.to_date() for d in dates], rates, \".\")\n",
    "ax1.grid(alpha=0.4)\n",
    "\n",
    "dates = [spot + ql.Period(i, ql.Months) for i in range(0, 60 * 12 + 1)]\n",
    "rates = [\n",
    "    euribor1m_curve.forwardRate(\n",
    "        d, euribor1m.maturityDate(d), ql.Actual360(), ql.Simple\n",
    "    ).rate()\n",
    "    for d in dates\n",
    "]\n",
    "\n",
    "ax2 = fig.add_subplot(2, 1, 2)\n",
    "ax2.set_title(\"EUR yield curve 1M (0-60Y)\")\n",
    "ax2.set_xlim(min(dates).to_date(), max(dates).to_date())\n",
    "ax2.yaxis.set_major_formatter(PercentFormatter(1.0))\n",
    "ax2.set_ylim(0.0, 0.035)\n",
    "ax2.plot([d.to_date() for d in dates], rates, \"-\")\n",
    "ax2.grid(alpha=0.4);"
   ]
  },
  {
   "cell_type": "markdown",
   "id": "2b684375",
   "metadata": {},
   "source": [
    "## Basis curves"
   ]
  },
  {
   "cell_type": "markdown",
   "id": "71ebc5d6",
   "metadata": {},
   "source": [
    "Finally, like the authors of the paper, we summarize the results by calculating the difference between the FRA rates calculated on the corresponding Euribor curve and those calculated on the ON curve. This lets us reproduce the top panel of figure 35, and ends this notebook."
   ]
  },
  {
   "cell_type": "code",
   "execution_count": null,
   "id": "082a296e",
   "metadata": {},
   "outputs": [],
   "source": [
    "dates = [spot + ql.Period(i, ql.Months) for i in range(0, 12 * 30 + 1)]\n",
    "\n",
    "\n",
    "def basis(curve, tenor):\n",
    "    results = []\n",
    "    for d in dates:\n",
    "        d2 = ql.TARGET().advance(\n",
    "            d, ql.Period(*tenor), ql.ModifiedFollowing\n",
    "        )\n",
    "        FRA1 = curve.forwardRate(d, d2, ql.Actual360(), ql.Simple).rate()\n",
    "        FRA2 = eonia_curve.forwardRate(\n",
    "            d, d2, ql.Actual360(), ql.Simple\n",
    "        ).rate()\n",
    "        results.append(FRA1 - FRA2)\n",
    "    return results\n",
    "\n",
    "\n",
    "basis_1m = basis(euribor1m_curve, (1, ql.Months))\n",
    "basis_3m = basis(euribor3m_curve, (3, ql.Months))\n",
    "basis_6m = basis(euribor6m_curve, (6, ql.Months))\n",
    "basis_12m = basis(euribor12m_curve, (12, ql.Months))\n",
    "\n",
    "ax = plt.figure(figsize=(9, 6)).add_subplot(1, 1, 1)\n",
    "ax.set_title(\"EUR FRA basis\")\n",
    "ax.axhline(0.0, linewidth=1, color=\"black\")\n",
    "ax.set_xlim(min(dates).to_date(), max(dates).to_date())\n",
    "ax.yaxis.set_major_formatter(PercentFormatter(1.0))\n",
    "ax.set_ylim(-0.0001, 0.006)\n",
    "ax.plot([d.to_date() for d in dates], basis_12m, \"-\", label=\"12M vs ON\")\n",
    "ax.plot([d.to_date() for d in dates], basis_6m, \"-\", label=\"6M vs ON\")\n",
    "ax.plot([d.to_date() for d in dates], basis_3m, \"-\", label=\"3M vs ON\")\n",
    "ax.plot([d.to_date() for d in dates], basis_1m, \"-\", label=\"1M vs ON\")\n",
    "ax.grid(alpha=0.4)\n",
    "ax.legend();"
   ]
  }
 ],
 "metadata": {
  "kernelspec": {
   "display_name": "Python 3 (ipykernel)",
   "language": "python",
   "name": "python3"
  },
  "language_info": {
   "codemirror_mode": {
    "name": "ipython",
    "version": 3
   },
   "file_extension": ".py",
   "mimetype": "text/x-python",
   "name": "python",
   "nbconvert_exporter": "python",
   "pygments_lexer": "ipython3",
   "version": "3.11.13"
  }
 },
 "nbformat": 4,
 "nbformat_minor": 5
}
